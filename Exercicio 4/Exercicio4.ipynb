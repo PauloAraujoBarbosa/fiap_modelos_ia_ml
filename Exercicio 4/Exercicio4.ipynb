{
 "cells": [
  {
   "cell_type": "markdown",
   "metadata": {},
   "source": [
    "# Exercício 4\n",
    "Utilizando o dataset Heart Disease UCI (disponível em https://www.kaggle.com/ronitf/heart-disease-uci) construa\n",
    "uma arvore de decisão que classifique as amostras em saudáveis ou não (coluna target =0).\n",
    "\n",
    "Avalie a precisão, acurácia e mostre a arvore de decisão gerada."
   ]
  },
  {
   "cell_type": "markdown",
   "metadata": {},
   "source": [
    "### 1 - Vamos importar algumas bibliotecas que iremos utilizar nesse exercício"
   ]
  },
  {
   "cell_type": "code",
   "execution_count": 1,
   "metadata": {},
   "outputs": [],
   "source": [
    "import pandas as pd\n",
    "import seaborn as sb\n",
    "\n",
    "from pandas import Series, DataFrame\n",
    "from sklearn.tree import DecisionTreeClassifier, plot_tree\n",
    "\n",
    "from sklearn.model_selection import train_test_split\n",
    "from sklearn import metrics \n",
    "from sklearn.metrics import classification_report\n",
    "\n",
    "from sklearn.metrics import confusion_matrix\n",
    "\n",
    "from sklearn.preprocessing import StandardScaler\n",
    "\n",
    "import matplotlib.pyplot as plt"
   ]
  },
  {
   "cell_type": "markdown",
   "metadata": {},
   "source": [
    "### 2 - Vamos ler o conjunto de dados utilizando a função read_csv() do pacote Pandas"
   ]
  },
  {
   "cell_type": "code",
   "execution_count": 2,
   "metadata": {},
   "outputs": [
    {
     "data": {
      "text/html": [
       "<div>\n",
       "<style scoped>\n",
       "    .dataframe tbody tr th:only-of-type {\n",
       "        vertical-align: middle;\n",
       "    }\n",
       "\n",
       "    .dataframe tbody tr th {\n",
       "        vertical-align: top;\n",
       "    }\n",
       "\n",
       "    .dataframe thead th {\n",
       "        text-align: right;\n",
       "    }\n",
       "</style>\n",
       "<table border=\"1\" class=\"dataframe\">\n",
       "  <thead>\n",
       "    <tr style=\"text-align: right;\">\n",
       "      <th></th>\n",
       "      <th>age</th>\n",
       "      <th>sex</th>\n",
       "      <th>cp</th>\n",
       "      <th>trestbps</th>\n",
       "      <th>chol</th>\n",
       "      <th>fbs</th>\n",
       "      <th>restecg</th>\n",
       "      <th>thalach</th>\n",
       "      <th>exang</th>\n",
       "      <th>oldpeak</th>\n",
       "      <th>slope</th>\n",
       "      <th>ca</th>\n",
       "      <th>thal</th>\n",
       "      <th>target</th>\n",
       "    </tr>\n",
       "  </thead>\n",
       "  <tbody>\n",
       "    <tr>\n",
       "      <th>0</th>\n",
       "      <td>63</td>\n",
       "      <td>1</td>\n",
       "      <td>3</td>\n",
       "      <td>145</td>\n",
       "      <td>233</td>\n",
       "      <td>1</td>\n",
       "      <td>0</td>\n",
       "      <td>150</td>\n",
       "      <td>0</td>\n",
       "      <td>2.3</td>\n",
       "      <td>0</td>\n",
       "      <td>0</td>\n",
       "      <td>1</td>\n",
       "      <td>1</td>\n",
       "    </tr>\n",
       "    <tr>\n",
       "      <th>1</th>\n",
       "      <td>37</td>\n",
       "      <td>1</td>\n",
       "      <td>2</td>\n",
       "      <td>130</td>\n",
       "      <td>250</td>\n",
       "      <td>0</td>\n",
       "      <td>1</td>\n",
       "      <td>187</td>\n",
       "      <td>0</td>\n",
       "      <td>3.5</td>\n",
       "      <td>0</td>\n",
       "      <td>0</td>\n",
       "      <td>2</td>\n",
       "      <td>1</td>\n",
       "    </tr>\n",
       "    <tr>\n",
       "      <th>2</th>\n",
       "      <td>41</td>\n",
       "      <td>0</td>\n",
       "      <td>1</td>\n",
       "      <td>130</td>\n",
       "      <td>204</td>\n",
       "      <td>0</td>\n",
       "      <td>0</td>\n",
       "      <td>172</td>\n",
       "      <td>0</td>\n",
       "      <td>1.4</td>\n",
       "      <td>2</td>\n",
       "      <td>0</td>\n",
       "      <td>2</td>\n",
       "      <td>1</td>\n",
       "    </tr>\n",
       "    <tr>\n",
       "      <th>3</th>\n",
       "      <td>56</td>\n",
       "      <td>1</td>\n",
       "      <td>1</td>\n",
       "      <td>120</td>\n",
       "      <td>236</td>\n",
       "      <td>0</td>\n",
       "      <td>1</td>\n",
       "      <td>178</td>\n",
       "      <td>0</td>\n",
       "      <td>0.8</td>\n",
       "      <td>2</td>\n",
       "      <td>0</td>\n",
       "      <td>2</td>\n",
       "      <td>1</td>\n",
       "    </tr>\n",
       "    <tr>\n",
       "      <th>4</th>\n",
       "      <td>57</td>\n",
       "      <td>0</td>\n",
       "      <td>0</td>\n",
       "      <td>120</td>\n",
       "      <td>354</td>\n",
       "      <td>0</td>\n",
       "      <td>1</td>\n",
       "      <td>163</td>\n",
       "      <td>1</td>\n",
       "      <td>0.6</td>\n",
       "      <td>2</td>\n",
       "      <td>0</td>\n",
       "      <td>2</td>\n",
       "      <td>1</td>\n",
       "    </tr>\n",
       "  </tbody>\n",
       "</table>\n",
       "</div>"
      ],
      "text/plain": [
       "   age  sex  cp  trestbps  chol  fbs  restecg  thalach  exang  oldpeak  slope  \\\n",
       "0   63    1   3       145   233    1        0      150      0      2.3      0   \n",
       "1   37    1   2       130   250    0        1      187      0      3.5      0   \n",
       "2   41    0   1       130   204    0        0      172      0      1.4      2   \n",
       "3   56    1   1       120   236    0        1      178      0      0.8      2   \n",
       "4   57    0   0       120   354    0        1      163      1      0.6      2   \n",
       "\n",
       "   ca  thal  target  \n",
       "0   0     1       1  \n",
       "1   0     2       1  \n",
       "2   0     2       1  \n",
       "3   0     2       1  \n",
       "4   0     2       1  "
      ]
     },
     "execution_count": 2,
     "metadata": {},
     "output_type": "execute_result"
    }
   ],
   "source": [
    "heart = pd.read_csv('heart.csv', sep=',')\n",
    "heart.head()"
   ]
  },
  {
   "cell_type": "markdown",
   "metadata": {},
   "source": [
    "### 3 - Análise do dataset"
   ]
  },
  {
   "cell_type": "markdown",
   "metadata": {},
   "source": [
    "Como estamos construindo um modelo para prever o grau de risco cardíaco de cada paciente, nosso alvo será a variável \"Target\" do dataframe heart.\n",
    "\n",
    "Para ter certeza de que é uma variável binária, vamos usar a função countplot () do Seaborn."
   ]
  },
  {
   "cell_type": "code",
   "execution_count": 3,
   "metadata": {},
   "outputs": [
    {
     "data": {
      "image/png": "[encoded data removed]",
      "text/plain": [
       "<Figure size 432x288 with 1 Axes>"
      ]
     },
     "metadata": {
      "needs_background": "light"
     },
     "output_type": "display_data"
    }
   ],
   "source": [
    "plot = sb.countplot(x='target', data=heart)\n",
    "plt.title('Verificação variável binária')\n",
    "plt.show(plot)"
   ]
  },
  {
   "cell_type": "markdown",
   "metadata": {},
   "source": [
    "Agora vamos verificar se existem valores faltantes"
   ]
  },
  {
   "cell_type": "code",
   "execution_count": 4,
   "metadata": {},
   "outputs": [
    {
     "data": {
      "text/plain": [
       "age         0\n",
       "sex         0\n",
       "cp          0\n",
       "trestbps    0\n",
       "chol        0\n",
       "fbs         0\n",
       "restecg     0\n",
       "thalach     0\n",
       "exang       0\n",
       "oldpeak     0\n",
       "slope       0\n",
       "ca          0\n",
       "thal        0\n",
       "target      0\n",
       "dtype: int64"
      ]
     },
     "execution_count": 4,
     "metadata": {},
     "output_type": "execute_result"
    }
   ],
   "source": [
    "heart.isnull().sum()"
   ]
  },
  {
   "cell_type": "code",
   "execution_count": 5,
   "metadata": {},
   "outputs": [
    {
     "name": "stdout",
     "output_type": "stream",
     "text": [
      "<class 'pandas.core.frame.DataFrame'>\n",
      "RangeIndex: 303 entries, 0 to 302\n",
      "Data columns (total 14 columns):\n",
      "age         303 non-null int64\n",
      "sex         303 non-null int64\n",
      "cp          303 non-null int64\n",
      "trestbps    303 non-null int64\n",
      "chol        303 non-null int64\n",
      "fbs         303 non-null int64\n",
      "restecg     303 non-null int64\n",
      "thalach     303 non-null int64\n",
      "exang       303 non-null int64\n",
      "oldpeak     303 non-null float64\n",
      "slope       303 non-null int64\n",
      "ca          303 non-null int64\n",
      "thal        303 non-null int64\n",
      "target      303 non-null int64\n",
      "dtypes: float64(1), int64(13)\n",
      "memory usage: 33.3 KB\n"
     ]
    }
   ],
   "source": [
    "heart.info()"
   ]
  },
  {
   "cell_type": "markdown",
   "metadata": {},
   "source": [
    "Vamos validar a independência entre as variáveis"
   ]
  },
  {
   "cell_type": "code",
   "execution_count": 6,
   "metadata": {},
   "outputs": [
    {
     "data": {
      "text/plain": [
       "<matplotlib.axes._subplots.AxesSubplot at 0x2d62af21f98>"
      ]
     },
     "execution_count": 6,
     "metadata": {},
     "output_type": "execute_result"
    },
    {
     "data": {
      "image/png": "[encoded data removed]",
      "text/plain": [
       "<Figure size 432x288 with 2 Axes>"
      ]
     },
     "metadata": {
      "needs_background": "light"
     },
     "output_type": "display_data"
    }
   ],
   "source": [
    "sb.heatmap(heart.corr())"
   ]
  },
  {
   "cell_type": "markdown",
   "metadata": {},
   "source": [
    "### 4 - Modelo de Classificação Decision Tree"
   ]
  },
  {
   "cell_type": "markdown",
   "metadata": {},
   "source": [
    "Separar a variável resposta das variáveis de treinamento"
   ]
  },
  {
   "cell_type": "code",
   "execution_count": 7,
   "metadata": {},
   "outputs": [
    {
     "name": "stdout",
     "output_type": "stream",
     "text": [
      "[[63.  1.  3. ...  0.  0.  1.]\n",
      " [37.  1.  2. ...  0.  0.  2.]\n",
      " [41.  0.  1. ...  2.  0.  2.]\n",
      " ...\n",
      " [68.  1.  0. ...  1.  2.  3.]\n",
      " [57.  1.  0. ...  1.  1.  3.]\n",
      " [57.  0.  1. ...  1.  1.  2.]]\n",
      "[1 1 1 1 1 1 1 1 1 1 1 1 1 1 1 1 1 1 1 1 1 1 1 1 1 1 1 1 1 1 1 1 1 1 1 1 1\n",
      " 1 1 1 1 1 1 1 1 1 1 1 1 1 1 1 1 1 1 1 1 1 1 1 1 1 1 1 1 1 1 1 1 1 1 1 1 1\n",
      " 1 1 1 1 1 1 1 1 1 1 1 1 1 1 1 1 1 1 1 1 1 1 1 1 1 1 1 1 1 1 1 1 1 1 1 1 1\n",
      " 1 1 1 1 1 1 1 1 1 1 1 1 1 1 1 1 1 1 1 1 1 1 1 1 1 1 1 1 1 1 1 1 1 1 1 1 1\n",
      " 1 1 1 1 1 1 1 1 1 1 1 1 1 1 1 1 1 0 0 0 0 0 0 0 0 0 0 0 0 0 0 0 0 0 0 0 0\n",
      " 0 0 0 0 0 0 0 0 0 0 0 0 0 0 0 0 0 0 0 0 0 0 0 0 0 0 0 0 0 0 0 0 0 0 0 0 0\n",
      " 0 0 0 0 0 0 0 0 0 0 0 0 0 0 0 0 0 0 0 0 0 0 0 0 0 0 0 0 0 0 0 0 0 0 0 0 0\n",
      " 0 0 0 0 0 0 0 0 0 0 0 0 0 0 0 0 0 0 0 0 0 0 0 0 0 0 0 0 0 0 0 0 0 0 0 0 0\n",
      " 0 0 0 0 0 0 0]\n"
     ]
    }
   ],
   "source": [
    "X = heart.iloc[:,0:-1].values\n",
    "y = heart.iloc[:,-1].values\n",
    "\n",
    "print(X)\n",
    "print(y)"
   ]
  },
  {
   "cell_type": "markdown",
   "metadata": {},
   "source": [
    "Normalização do dataset"
   ]
  },
  {
   "cell_type": "code",
   "execution_count": 8,
   "metadata": {},
   "outputs": [
    {
     "name": "stdout",
     "output_type": "stream",
     "text": [
      "[[63.  1.  3. ...  0.  0.  1.]\n",
      " [37.  1.  2. ...  0.  0.  2.]\n",
      " [41.  0.  1. ...  2.  0.  2.]\n",
      " ...\n",
      " [68.  1.  0. ...  1.  2.  3.]\n",
      " [57.  1.  0. ...  1.  1.  3.]\n",
      " [57.  0.  1. ...  1.  1.  2.]]\n",
      "[[ 0.9521966   0.68100522  1.97312292 ... -2.27457861 -0.71442887\n",
      "  -2.14887271]\n",
      " [-1.91531289  0.68100522  1.00257707 ... -2.27457861 -0.71442887\n",
      "  -0.51292188]\n",
      " [-1.47415758 -1.46841752  0.03203122 ...  0.97635214 -0.71442887\n",
      "  -0.51292188]\n",
      " ...\n",
      " [ 1.50364073  0.68100522 -0.93851463 ... -0.64911323  1.24459328\n",
      "   1.12302895]\n",
      " [ 0.29046364  0.68100522 -0.93851463 ... -0.64911323  0.26508221\n",
      "   1.12302895]\n",
      " [ 0.29046364 -1.46841752  0.03203122 ... -0.64911323  0.26508221\n",
      "  -0.51292188]]\n"
     ]
    }
   ],
   "source": [
    "XNew = StandardScaler().fit_transform(X)\n",
    "XOld = X\n",
    "X = XNew\n",
    "\n",
    "print(XOld)\n",
    "print(X)"
   ]
  },
  {
   "cell_type": "markdown",
   "metadata": {},
   "source": [
    "Dividir os dados em treino e teste (teste = 30%)"
   ]
  },
  {
   "cell_type": "code",
   "execution_count": 9,
   "metadata": {},
   "outputs": [],
   "source": [
    "X_train, X_test, y_train, y_test = train_test_split(X, y, test_size = .3, random_state = 15)\n",
    "\n",
    "Classif_tree = DecisionTreeClassifier()\n",
    "Classif_tree.fit(X_train, y_train)\n",
    "y_pred = Classif_tree.predict(X_test)"
   ]
  },
  {
   "cell_type": "code",
   "execution_count": 10,
   "metadata": {},
   "outputs": [
    {
     "name": "stdout",
     "output_type": "stream",
     "text": [
      "[[25 13]\n",
      " [12 41]]\n",
      "              precision    recall  f1-score   support\n",
      "\n",
      "           0       0.68      0.66      0.67        38\n",
      "           1       0.76      0.77      0.77        53\n",
      "\n",
      "    accuracy                           0.73        91\n",
      "   macro avg       0.72      0.72      0.72        91\n",
      "weighted avg       0.72      0.73      0.72        91\n",
      "\n",
      "0.7252747252747253\n"
     ]
    }
   ],
   "source": [
    "cm = confusion_matrix(y_test, y_pred)\n",
    "print(cm)\n",
    "print(classification_report(y_test, y_pred))\n",
    "print(metrics.accuracy_score(y_test, y_pred))"
   ]
  },
  {
   "cell_type": "markdown",
   "metadata": {},
   "source": [
    "Plot da árvore"
   ]
  },
  {
   "cell_type": "code",
   "execution_count": 11,
   "metadata": {},
   "outputs": [
    {
     "data": {
      "text/plain": [
       "[Text(183.6402985074627, 208.38, 'thal <= 0.305\\ngini = 0.498\\nsamples = 212\\nvalue = [100, 112]\\nclass = Doente'),\n",
       " Text(102.43880597014926, 190.26, 'ca <= -0.225\\ngini = 0.39\\nsamples = 132\\nvalue = [35, 97]\\nclass = Doente'),\n",
       " Text(74.95522388059702, 172.14, 'trestbps <= 2.02\\ngini = 0.221\\nsamples = 87\\nvalue = [11, 76]\\nclass = Doente'),\n",
       " Text(64.96119402985074, 154.01999999999998, 'oldpeak <= 2.166\\ngini = 0.189\\nsamples = 85\\nvalue = [9, 76]\\nclass = Doente'),\n",
       " Text(54.96716417910448, 135.89999999999998, 'thalach <= -2.893\\ngini = 0.172\\nsamples = 84\\nvalue = [8, 76]\\nclass = Doente'),\n",
       " Text(44.97313432835821, 117.77999999999999, 'gini = 0.0\\nsamples = 1\\nvalue = [1, 0]\\nclass = Saudável'),\n",
       " Text(64.96119402985074, 117.77999999999999, 'thalach <= 0.496\\ngini = 0.154\\nsamples = 83\\nvalue = [7, 76]\\nclass = Doente'),\n",
       " Text(39.97611940298508, 99.66, 'trestbps <= -0.15\\ngini = 0.26\\nsamples = 39\\nvalue = [6, 33]\\nclass = Doente'),\n",
       " Text(19.98805970149254, 81.53999999999999, 'thalach <= -0.815\\ngini = 0.388\\nsamples = 19\\nvalue = [5, 14]\\nclass = Doente'),\n",
       " Text(9.99402985074627, 63.41999999999999, 'gini = 0.0\\nsamples = 8\\nvalue = [0, 8]\\nclass = Doente'),\n",
       " Text(29.982089552238808, 63.41999999999999, 'chol <= -0.778\\ngini = 0.496\\nsamples = 11\\nvalue = [5, 6]\\nclass = Doente'),\n",
       " Text(19.98805970149254, 45.29999999999998, 'gini = 0.0\\nsamples = 3\\nvalue = [3, 0]\\nclass = Saudável'),\n",
       " Text(39.97611940298508, 45.29999999999998, 'chol <= -0.14\\ngini = 0.375\\nsamples = 8\\nvalue = [2, 6]\\nclass = Doente'),\n",
       " Text(29.982089552238808, 27.17999999999998, 'gini = 0.0\\nsamples = 5\\nvalue = [0, 5]\\nclass = Doente'),\n",
       " Text(49.97014925373135, 27.17999999999998, 'chol <= 0.903\\ngini = 0.444\\nsamples = 3\\nvalue = [2, 1]\\nclass = Saudável'),\n",
       " Text(39.97611940298508, 9.059999999999974, 'gini = 0.0\\nsamples = 2\\nvalue = [2, 0]\\nclass = Saudável'),\n",
       " Text(59.964179104477616, 9.059999999999974, 'gini = 0.0\\nsamples = 1\\nvalue = [0, 1]\\nclass = Doente'),\n",
       " Text(59.964179104477616, 81.53999999999999, 'age <= 1.007\\ngini = 0.095\\nsamples = 20\\nvalue = [1, 19]\\nclass = Doente'),\n",
       " Text(49.97014925373135, 63.41999999999999, 'gini = 0.0\\nsamples = 17\\nvalue = [0, 17]\\nclass = Doente'),\n",
       " Text(69.95820895522388, 63.41999999999999, 'oldpeak <= -0.552\\ngini = 0.444\\nsamples = 3\\nvalue = [1, 2]\\nclass = Doente'),\n",
       " Text(59.964179104477616, 45.29999999999998, 'gini = 0.0\\nsamples = 1\\nvalue = [1, 0]\\nclass = Saudável'),\n",
       " Text(79.95223880597015, 45.29999999999998, 'gini = 0.0\\nsamples = 2\\nvalue = [0, 2]\\nclass = Doente'),\n",
       " Text(89.94626865671643, 99.66, 'age <= 0.676\\ngini = 0.044\\nsamples = 44\\nvalue = [1, 43]\\nclass = Doente'),\n",
       " Text(79.95223880597015, 81.53999999999999, 'gini = 0.0\\nsamples = 41\\nvalue = [0, 41]\\nclass = Doente'),\n",
       " Text(99.9402985074627, 81.53999999999999, 'chol <= 0.865\\ngini = 0.444\\nsamples = 3\\nvalue = [1, 2]\\nclass = Doente'),\n",
       " Text(89.94626865671643, 63.41999999999999, 'gini = 0.0\\nsamples = 2\\nvalue = [0, 2]\\nclass = Doente'),\n",
       " Text(109.93432835820896, 63.41999999999999, 'gini = 0.0\\nsamples = 1\\nvalue = [1, 0]\\nclass = Saudável'),\n",
       " Text(74.95522388059702, 135.89999999999998, 'gini = 0.0\\nsamples = 1\\nvalue = [1, 0]\\nclass = Saudável'),\n",
       " Text(84.94925373134329, 154.01999999999998, 'gini = 0.0\\nsamples = 2\\nvalue = [2, 0]\\nclass = Saudável'),\n",
       " Text(129.9223880597015, 172.14, 'cp <= -0.453\\ngini = 0.498\\nsamples = 45\\nvalue = [24, 21]\\nclass = Saudável'),\n",
       " Text(104.93731343283582, 154.01999999999998, 'sex <= -0.394\\ngini = 0.255\\nsamples = 20\\nvalue = [17, 3]\\nclass = Saudável'),\n",
       " Text(94.94328358208956, 135.89999999999998, 'exang <= 0.369\\ngini = 0.48\\nsamples = 5\\nvalue = [2, 3]\\nclass = Doente'),\n",
       " Text(84.94925373134329, 117.77999999999999, 'gini = 0.0\\nsamples = 3\\nvalue = [0, 3]\\nclass = Doente'),\n",
       " Text(104.93731343283582, 117.77999999999999, 'gini = 0.0\\nsamples = 2\\nvalue = [2, 0]\\nclass = Saudável'),\n",
       " Text(114.9313432835821, 135.89999999999998, 'gini = 0.0\\nsamples = 15\\nvalue = [15, 0]\\nclass = Saudável'),\n",
       " Text(154.9074626865672, 154.01999999999998, 'slope <= 0.164\\ngini = 0.403\\nsamples = 25\\nvalue = [7, 18]\\nclass = Doente'),\n",
       " Text(134.91940298507464, 135.89999999999998, 'oldpeak <= -0.422\\ngini = 0.49\\nsamples = 7\\nvalue = [4, 3]\\nclass = Saudável'),\n",
       " Text(124.92537313432837, 117.77999999999999, 'thalach <= 0.584\\ngini = 0.375\\nsamples = 4\\nvalue = [1, 3]\\nclass = Doente'),\n",
       " Text(114.9313432835821, 99.66, 'gini = 0.0\\nsamples = 3\\nvalue = [0, 3]\\nclass = Doente'),\n",
       " Text(134.91940298507464, 99.66, 'gini = 0.0\\nsamples = 1\\nvalue = [1, 0]\\nclass = Saudável'),\n",
       " Text(144.9134328358209, 117.77999999999999, 'gini = 0.0\\nsamples = 3\\nvalue = [3, 0]\\nclass = Saudável'),\n",
       " Text(174.8955223880597, 135.89999999999998, 'chol <= -1.628\\ngini = 0.278\\nsamples = 18\\nvalue = [3, 15]\\nclass = Doente'),\n",
       " Text(164.90149253731343, 117.77999999999999, 'gini = 0.0\\nsamples = 1\\nvalue = [1, 0]\\nclass = Saudável'),\n",
       " Text(184.88955223880598, 117.77999999999999, 'cp <= 0.517\\ngini = 0.208\\nsamples = 17\\nvalue = [2, 15]\\nclass = Doente'),\n",
       " Text(174.8955223880597, 99.66, 'age <= 0.676\\ngini = 0.444\\nsamples = 6\\nvalue = [2, 4]\\nclass = Doente'),\n",
       " Text(164.90149253731343, 81.53999999999999, 'age <= 0.125\\ngini = 0.444\\nsamples = 3\\nvalue = [2, 1]\\nclass = Saudável'),\n",
       " Text(154.9074626865672, 63.41999999999999, 'gini = 0.0\\nsamples = 1\\nvalue = [0, 1]\\nclass = Doente'),\n",
       " Text(174.8955223880597, 63.41999999999999, 'gini = 0.0\\nsamples = 2\\nvalue = [2, 0]\\nclass = Saudável'),\n",
       " Text(184.88955223880598, 81.53999999999999, 'gini = 0.0\\nsamples = 3\\nvalue = [0, 3]\\nclass = Doente'),\n",
       " Text(194.88358208955225, 99.66, 'gini = 0.0\\nsamples = 11\\nvalue = [0, 11]\\nclass = Doente'),\n",
       " Text(264.84179104477613, 190.26, 'oldpeak <= -0.293\\ngini = 0.305\\nsamples = 80\\nvalue = [65, 15]\\nclass = Saudável'),\n",
       " Text(234.85970149253734, 172.14, 'chol <= -0.353\\ngini = 0.497\\nsamples = 24\\nvalue = [13, 11]\\nclass = Saudável'),\n",
       " Text(204.87761194029852, 154.01999999999998, 'age <= 0.566\\ngini = 0.219\\nsamples = 8\\nvalue = [1, 7]\\nclass = Doente'),\n",
       " Text(194.88358208955225, 135.89999999999998, 'gini = 0.0\\nsamples = 6\\nvalue = [0, 6]\\nclass = Doente'),\n",
       " Text(214.8716417910448, 135.89999999999998, 'restecg <= -0.053\\ngini = 0.5\\nsamples = 2\\nvalue = [1, 1]\\nclass = Saudável'),\n",
       " Text(204.87761194029852, 117.77999999999999, 'gini = 0.0\\nsamples = 1\\nvalue = [0, 1]\\nclass = Doente'),\n",
       " Text(224.86567164179107, 117.77999999999999, 'gini = 0.0\\nsamples = 1\\nvalue = [1, 0]\\nclass = Saudável'),\n",
       " Text(264.84179104477613, 154.01999999999998, 'chol <= 1.125\\ngini = 0.375\\nsamples = 16\\nvalue = [12, 4]\\nclass = Saudável'),\n",
       " Text(254.84776119402986, 135.89999999999998, 'thalach <= -1.559\\ngini = 0.245\\nsamples = 14\\nvalue = [12, 2]\\nclass = Saudável'),\n",
       " Text(244.85373134328358, 117.77999999999999, 'gini = 0.0\\nsamples = 1\\nvalue = [0, 1]\\nclass = Doente'),\n",
       " Text(264.84179104477613, 117.77999999999999, 'trestbps <= -0.55\\ngini = 0.142\\nsamples = 13\\nvalue = [12, 1]\\nclass = Saudável'),\n",
       " Text(254.84776119402986, 99.66, 'thalach <= 0.081\\ngini = 0.5\\nsamples = 2\\nvalue = [1, 1]\\nclass = Saudável'),\n",
       " Text(244.85373134328358, 81.53999999999999, 'gini = 0.0\\nsamples = 1\\nvalue = [0, 1]\\nclass = Doente'),\n",
       " Text(264.84179104477613, 81.53999999999999, 'gini = 0.0\\nsamples = 1\\nvalue = [1, 0]\\nclass = Saudável'),\n",
       " Text(274.83582089552243, 99.66, 'gini = 0.0\\nsamples = 11\\nvalue = [11, 0]\\nclass = Saudável'),\n",
       " Text(274.83582089552243, 135.89999999999998, 'gini = 0.0\\nsamples = 2\\nvalue = [0, 2]\\nclass = Doente'),\n",
       " Text(294.8238805970149, 172.14, 'thalach <= 0.387\\ngini = 0.133\\nsamples = 56\\nvalue = [52, 4]\\nclass = Saudável'),\n",
       " Text(284.8298507462687, 154.01999999999998, 'gini = 0.0\\nsamples = 46\\nvalue = [46, 0]\\nclass = Saudável'),\n",
       " Text(304.8179104477612, 154.01999999999998, 'cp <= 0.517\\ngini = 0.48\\nsamples = 10\\nvalue = [6, 4]\\nclass = Saudável'),\n",
       " Text(294.8238805970149, 135.89999999999998, 'gini = 0.0\\nsamples = 5\\nvalue = [5, 0]\\nclass = Saudável'),\n",
       " Text(314.81194029850747, 135.89999999999998, 'ca <= -0.225\\ngini = 0.32\\nsamples = 5\\nvalue = [1, 4]\\nclass = Doente'),\n",
       " Text(304.8179104477612, 117.77999999999999, 'gini = 0.0\\nsamples = 4\\nvalue = [0, 4]\\nclass = Doente'),\n",
       " Text(324.80597014925377, 117.77999999999999, 'gini = 0.0\\nsamples = 1\\nvalue = [1, 0]\\nclass = Saudável')]"
      ]
     },
     "execution_count": 11,
     "metadata": {},
     "output_type": "execute_result"
    },
    {
     "data": {
      "image/png": "[encoded data removed]",
      "text/plain": [
       "<Figure size 432x288 with 1 Axes>"
      ]
     },
     "metadata": {
      "needs_background": "light"
     },
     "output_type": "display_data"
    }
   ],
   "source": [
    "plot_tree(Classif_tree, filled=True, feature_names=heart.columns.values[0:-1], class_names=['Saudável', 'Doente'])"
   ]
  },
  {
   "cell_type": "markdown",
   "metadata": {},
   "source": [
    "Vamos descobrir os maiores valores de acurácia variando a quantidade de folhas da árvore"
   ]
  },
  {
   "cell_type": "code",
   "execution_count": 14,
   "metadata": {},
   "outputs": [
    {
     "name": "stdout",
     "output_type": "stream",
     "text": [
      "[0.7032967032967034, 0.7362637362637363, 0.7802197802197802, 0.7802197802197802, 0.7912087912087912, 0.7802197802197802, 0.7582417582417582, 0.7582417582417582, 0.7582417582417582, 0.7472527472527473, 0.7472527472527473, 0.7582417582417582, 0.7912087912087912, 0.7582417582417582, 0.7582417582417582, 0.7912087912087912, 0.7472527472527473, 0.7582417582417582]\n"
     ]
    }
   ],
   "source": [
    "leaf_range = range(2, 20)\n",
    "scores = []\n",
    "\n",
    "for i in leaf_range:\n",
    "    Classif_tree = DecisionTreeClassifier(max_leaf_nodes=i)\n",
    "    Classif_tree.fit(X_train, y_train)\n",
    "    y_pred = Classif_tree.predict(X_test)\n",
    "    scores.append(metrics.accuracy_score(y_test, y_pred))\n",
    "\n",
    "print(scores)"
   ]
  },
  {
   "cell_type": "markdown",
   "metadata": {},
   "source": [
    "Plot dos valores de acurácia em função da quantidade de folhas"
   ]
  },
  {
   "cell_type": "code",
   "execution_count": 15,
   "metadata": {},
   "outputs": [
    {
     "data": {
      "text/plain": [
       "Text(0, 0.5, 'Acurácia')"
      ]
     },
     "execution_count": 15,
     "metadata": {},
     "output_type": "execute_result"
    },
    {
     "data": {
      "image/png": "[encoded data removed]",
      "text/plain": [
       "<Figure size 432x288 with 1 Axes>"
      ]
     },
     "metadata": {
      "needs_background": "light"
     },
     "output_type": "display_data"
    }
   ],
   "source": [
    "plt.plot(leaf_range, scores)\n",
    "plt.title('Acurácia em relação a quantidade de folhas')\n",
    "plt.xlabel('Número de Folhas')\n",
    "plt.ylabel('Acurácia')"
   ]
  },
  {
   "cell_type": "code",
   "execution_count": 16,
   "metadata": {},
   "outputs": [],
   "source": [
    "Classif_tree = DecisionTreeClassifier(max_leaf_nodes=6)\n",
    "Classif_tree.fit(X_train, y_train)\n",
    "y_pred = Classif_tree.predict(X_test)"
   ]
  },
  {
   "cell_type": "code",
   "execution_count": 17,
   "metadata": {},
   "outputs": [
    {
     "name": "stdout",
     "output_type": "stream",
     "text": [
      "[[28 10]\n",
      " [ 9 44]]\n",
      "              precision    recall  f1-score   support\n",
      "\n",
      "           0       0.76      0.74      0.75        38\n",
      "           1       0.81      0.83      0.82        53\n",
      "\n",
      "    accuracy                           0.79        91\n",
      "   macro avg       0.79      0.78      0.78        91\n",
      "weighted avg       0.79      0.79      0.79        91\n",
      "\n",
      "0.7912087912087912\n"
     ]
    }
   ],
   "source": [
    "cm = confusion_matrix(y_test, y_pred)\n",
    "\n",
    "print(cm)\n",
    "print(classification_report(y_test, y_pred))\n",
    "print(metrics.accuracy_score(y_test, y_pred))"
   ]
  },
  {
   "cell_type": "markdown",
   "metadata": {},
   "source": [
    "Vamos plotar a árvore gerada"
   ]
  },
  {
   "cell_type": "code",
   "execution_count": 18,
   "metadata": {},
   "outputs": [
    {
     "data": {
      "text/plain": [
       "[Text(167.40000000000003, 190.26, 'thal <= 0.305\\ngini = 0.498\\nsamples = 212\\nvalue = [100, 112]\\nclass = Doente'),\n",
       " Text(66.96000000000001, 135.9, 'ca <= -0.225\\ngini = 0.39\\nsamples = 132\\nvalue = [35, 97]\\nclass = Doente'),\n",
       " Text(33.480000000000004, 81.53999999999999, 'gini = 0.221\\nsamples = 87\\nvalue = [11, 76]\\nclass = Doente'),\n",
       " Text(100.44000000000001, 81.53999999999999, 'cp <= -0.453\\ngini = 0.498\\nsamples = 45\\nvalue = [24, 21]\\nclass = Saudável'),\n",
       " Text(66.96000000000001, 27.180000000000007, 'gini = 0.255\\nsamples = 20\\nvalue = [17, 3]\\nclass = Saudável'),\n",
       " Text(133.92000000000002, 27.180000000000007, 'gini = 0.403\\nsamples = 25\\nvalue = [7, 18]\\nclass = Doente'),\n",
       " Text(267.84000000000003, 135.9, 'oldpeak <= -0.293\\ngini = 0.305\\nsamples = 80\\nvalue = [65, 15]\\nclass = Saudável'),\n",
       " Text(234.36, 81.53999999999999, 'chol <= -0.353\\ngini = 0.497\\nsamples = 24\\nvalue = [13, 11]\\nclass = Saudável'),\n",
       " Text(200.88000000000002, 27.180000000000007, 'gini = 0.219\\nsamples = 8\\nvalue = [1, 7]\\nclass = Doente'),\n",
       " Text(267.84000000000003, 27.180000000000007, 'gini = 0.375\\nsamples = 16\\nvalue = [12, 4]\\nclass = Saudável'),\n",
       " Text(301.32000000000005, 81.53999999999999, 'gini = 0.133\\nsamples = 56\\nvalue = [52, 4]\\nclass = Saudável')]"
      ]
     },
     "execution_count": 18,
     "metadata": {},
     "output_type": "execute_result"
    },
    {
     "data": {
      "image/png": "[encoded data removed]",
      "text/plain": [
       "<Figure size 432x288 with 1 Axes>"
      ]
     },
     "metadata": {
      "needs_background": "light"
     },
     "output_type": "display_data"
    }
   ],
   "source": [
    "plot_tree(Classif_tree, filled=True, feature_names=heart.columns.values[0:-1], class_names=['Saudável', 'Doente'])"
   ]
  },
  {
   "cell_type": "markdown",
   "metadata": {},
   "source": [
    "### Podemos verificar no gráfico, que a maior acurácia (79%) é obtida com 6,14 e 17 folhas. Escolheremos nossa árvore com 6 folhas para atender o que nos foi solicitado no exercício: \"...gerar a menor arvore possível com a maior taxa de acerto (podando a quantidade máxima de folhas e/ou altura da arvore)."
   ]
  },
  {
   "cell_type": "code",
   "execution_count": null,
   "metadata": {},
   "outputs": [],
   "source": []
  }
 ],
 "metadata": {
  "kernelspec": {
   "display_name": "Python 3",
   "language": "python",
   "name": "python3"
  },
  "language_info": {
   "codemirror_mode": {
    "name": "ipython",
    "version": 3
   },
   "file_extension": ".py",
   "mimetype": "text/x-python",
   "name": "python",
   "nbconvert_exporter": "python",
   "pygments_lexer": "ipython3",
   "version": "3.7.1"
  }
 },
 "nbformat": 4,
 "nbformat_minor": 4
}
