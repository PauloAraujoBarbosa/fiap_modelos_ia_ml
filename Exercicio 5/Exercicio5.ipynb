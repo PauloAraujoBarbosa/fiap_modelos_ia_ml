{
 "cells": [
  {
   "cell_type": "markdown",
   "metadata": {},
   "source": [
    "# Exercício 5\n",
    "Utilizando o dataset Pulsar Star (disponível em https://www.kaggle.com/pavanraj159/predicting-a-pulsar-star/)\n",
    "construa um classificador SVM que classifique as amostras em estrelas de nêutrons ou não.\n",
    "\n",
    "Avalie a precisão, acurácia e varie o tipo de kernel e parâmetro C para este problema."
   ]
  },
  {
   "cell_type": "markdown",
   "metadata": {},
   "source": [
    "### 1 - Vamos importar algumas bibliotecas que iremos utilizar nesse exercício"
   ]
  },
  {
   "cell_type": "code",
   "execution_count": 1,
   "metadata": {},
   "outputs": [],
   "source": [
    "import seaborn as sb\n",
    "\n",
    "from sklearn.model_selection import cross_val_predict\n",
    "from sklearn import metrics\n",
    "import pandas as pd\n",
    "from sklearn import svm\n",
    "\n",
    "from sklearn.pipeline import Pipeline\n",
    "from sklearn.preprocessing import StandardScaler\n",
    "from sklearn.preprocessing import MinMaxScaler\n",
    "import matplotlib.pyplot as plt"
   ]
  },
  {
   "cell_type": "markdown",
   "metadata": {},
   "source": [
    "### 2 - Vamos ler o conjunto de dados utilizando a função read_csv() do pacote Pandas"
   ]
  },
  {
   "cell_type": "code",
   "execution_count": 3,
   "metadata": {},
   "outputs": [
    {
     "data": {
      "text/html": [
       "<div>\n",
       "<style scoped>\n",
       "    .dataframe tbody tr th:only-of-type {\n",
       "        vertical-align: middle;\n",
       "    }\n",
       "\n",
       "    .dataframe tbody tr th {\n",
       "        vertical-align: top;\n",
       "    }\n",
       "\n",
       "    .dataframe thead th {\n",
       "        text-align: right;\n",
       "    }\n",
       "</style>\n",
       "<table border=\"1\" class=\"dataframe\">\n",
       "  <thead>\n",
       "    <tr style=\"text-align: right;\">\n",
       "      <th></th>\n",
       "      <th>Mean of the integrated profile</th>\n",
       "      <th>Standard deviation of the integrated profile</th>\n",
       "      <th>Excess kurtosis of the integrated profile</th>\n",
       "      <th>Skewness of the integrated profile</th>\n",
       "      <th>Mean of the DM-SNR curve</th>\n",
       "      <th>Standard deviation of the DM-SNR curve</th>\n",
       "      <th>Excess kurtosis of the DM-SNR curve</th>\n",
       "      <th>Skewness of the DM-SNR curve</th>\n",
       "      <th>target_class</th>\n",
       "    </tr>\n",
       "  </thead>\n",
       "  <tbody>\n",
       "    <tr>\n",
       "      <th>0</th>\n",
       "      <td>140.562500</td>\n",
       "      <td>55.683782</td>\n",
       "      <td>-0.234571</td>\n",
       "      <td>-0.699648</td>\n",
       "      <td>3.199833</td>\n",
       "      <td>19.110426</td>\n",
       "      <td>7.975532</td>\n",
       "      <td>74.242225</td>\n",
       "      <td>0</td>\n",
       "    </tr>\n",
       "    <tr>\n",
       "      <th>1</th>\n",
       "      <td>102.507812</td>\n",
       "      <td>58.882430</td>\n",
       "      <td>0.465318</td>\n",
       "      <td>-0.515088</td>\n",
       "      <td>1.677258</td>\n",
       "      <td>14.860146</td>\n",
       "      <td>10.576487</td>\n",
       "      <td>127.393580</td>\n",
       "      <td>0</td>\n",
       "    </tr>\n",
       "    <tr>\n",
       "      <th>2</th>\n",
       "      <td>103.015625</td>\n",
       "      <td>39.341649</td>\n",
       "      <td>0.323328</td>\n",
       "      <td>1.051164</td>\n",
       "      <td>3.121237</td>\n",
       "      <td>21.744669</td>\n",
       "      <td>7.735822</td>\n",
       "      <td>63.171909</td>\n",
       "      <td>0</td>\n",
       "    </tr>\n",
       "    <tr>\n",
       "      <th>3</th>\n",
       "      <td>136.750000</td>\n",
       "      <td>57.178449</td>\n",
       "      <td>-0.068415</td>\n",
       "      <td>-0.636238</td>\n",
       "      <td>3.642977</td>\n",
       "      <td>20.959280</td>\n",
       "      <td>6.896499</td>\n",
       "      <td>53.593661</td>\n",
       "      <td>0</td>\n",
       "    </tr>\n",
       "    <tr>\n",
       "      <th>4</th>\n",
       "      <td>88.726562</td>\n",
       "      <td>40.672225</td>\n",
       "      <td>0.600866</td>\n",
       "      <td>1.123492</td>\n",
       "      <td>1.178930</td>\n",
       "      <td>11.468720</td>\n",
       "      <td>14.269573</td>\n",
       "      <td>252.567306</td>\n",
       "      <td>0</td>\n",
       "    </tr>\n",
       "  </tbody>\n",
       "</table>\n",
       "</div>"
      ],
      "text/plain": [
       "    Mean of the integrated profile  \\\n",
       "0                       140.562500   \n",
       "1                       102.507812   \n",
       "2                       103.015625   \n",
       "3                       136.750000   \n",
       "4                        88.726562   \n",
       "\n",
       "    Standard deviation of the integrated profile  \\\n",
       "0                                      55.683782   \n",
       "1                                      58.882430   \n",
       "2                                      39.341649   \n",
       "3                                      57.178449   \n",
       "4                                      40.672225   \n",
       "\n",
       "    Excess kurtosis of the integrated profile  \\\n",
       "0                                   -0.234571   \n",
       "1                                    0.465318   \n",
       "2                                    0.323328   \n",
       "3                                   -0.068415   \n",
       "4                                    0.600866   \n",
       "\n",
       "    Skewness of the integrated profile   Mean of the DM-SNR curve  \\\n",
       "0                            -0.699648                   3.199833   \n",
       "1                            -0.515088                   1.677258   \n",
       "2                             1.051164                   3.121237   \n",
       "3                            -0.636238                   3.642977   \n",
       "4                             1.123492                   1.178930   \n",
       "\n",
       "    Standard deviation of the DM-SNR curve  \\\n",
       "0                                19.110426   \n",
       "1                                14.860146   \n",
       "2                                21.744669   \n",
       "3                                20.959280   \n",
       "4                                11.468720   \n",
       "\n",
       "    Excess kurtosis of the DM-SNR curve   Skewness of the DM-SNR curve  \\\n",
       "0                              7.975532                      74.242225   \n",
       "1                             10.576487                     127.393580   \n",
       "2                              7.735822                      63.171909   \n",
       "3                              6.896499                      53.593661   \n",
       "4                             14.269573                     252.567306   \n",
       "\n",
       "   target_class  \n",
       "0             0  \n",
       "1             0  \n",
       "2             0  \n",
       "3             0  \n",
       "4             0  "
      ]
     },
     "execution_count": 3,
     "metadata": {},
     "output_type": "execute_result"
    }
   ],
   "source": [
    "pulsar = pd.read_csv('pulsar_stars.csv', sep=',')\n",
    "pulsar.head()"
   ]
  },
  {
   "cell_type": "markdown",
   "metadata": {},
   "source": [
    "### 3 - Validação via crossvalidation (k-fold)"
   ]
  },
  {
   "cell_type": "code",
   "execution_count": 4,
   "metadata": {},
   "outputs": [],
   "source": [
    "def Acuracia(clf,X,y):\n",
    "    resultados = cross_val_predict(clf, X, y, cv=5)\n",
    "    return metrics.accuracy_score(y, resultados)"
   ]
  },
  {
   "cell_type": "markdown",
   "metadata": {},
   "source": [
    "### 4 - Verificar se a variável \"target_class\" é binária, visto que queremos classificar em estrelas de nêutrons ou não"
   ]
  },
  {
   "cell_type": "code",
   "execution_count": 6,
   "metadata": {},
   "outputs": [
    {
     "data": {
      "image/png": "[encoded data removed]",
      "text/plain": [
       "<Figure size 432x288 with 1 Axes>"
      ]
     },
     "metadata": {
      "needs_background": "light"
     },
     "output_type": "display_data"
    }
   ],
   "source": [
    "plot = sb.countplot(x='target_class', data=pulsar)\n",
    "plt.title('Verificação variável binária')\n",
    "plt.show(plot)"
   ]
  },
  {
   "cell_type": "markdown",
   "metadata": {},
   "source": [
    "### 5 - Análise do dataset"
   ]
  },
  {
   "cell_type": "code",
   "execution_count": 7,
   "metadata": {},
   "outputs": [
    {
     "data": {
      "text/plain": [
       "Index([' Mean of the integrated profile',\n",
       "       ' Standard deviation of the integrated profile',\n",
       "       ' Excess kurtosis of the integrated profile',\n",
       "       ' Skewness of the integrated profile', ' Mean of the DM-SNR curve',\n",
       "       ' Standard deviation of the DM-SNR curve',\n",
       "       ' Excess kurtosis of the DM-SNR curve', ' Skewness of the DM-SNR curve',\n",
       "       'target_class'],\n",
       "      dtype='object')"
      ]
     },
     "execution_count": 7,
     "metadata": {},
     "output_type": "execute_result"
    }
   ],
   "source": [
    "pulsar.columns"
   ]
  },
  {
   "cell_type": "code",
   "execution_count": 8,
   "metadata": {},
   "outputs": [
    {
     "data": {
      "text/plain": [
       "9"
      ]
     },
     "execution_count": 8,
     "metadata": {},
     "output_type": "execute_result"
    }
   ],
   "source": [
    "len(pulsar.columns)"
   ]
  },
  {
   "cell_type": "code",
   "execution_count": 9,
   "metadata": {},
   "outputs": [
    {
     "data": {
      "text/plain": [
       " Mean of the integrated profile                  float64\n",
       " Standard deviation of the integrated profile    float64\n",
       " Excess kurtosis of the integrated profile       float64\n",
       " Skewness of the integrated profile              float64\n",
       " Mean of the DM-SNR curve                        float64\n",
       " Standard deviation of the DM-SNR curve          float64\n",
       " Excess kurtosis of the DM-SNR curve             float64\n",
       " Skewness of the DM-SNR curve                    float64\n",
       "target_class                                       int64\n",
       "dtype: object"
      ]
     },
     "execution_count": 9,
     "metadata": {},
     "output_type": "execute_result"
    }
   ],
   "source": [
    "pulsar.dtypes"
   ]
  },
  {
   "cell_type": "markdown",
   "metadata": {},
   "source": [
    "Vamos verificar se existem valores faltantes"
   ]
  },
  {
   "cell_type": "code",
   "execution_count": 11,
   "metadata": {},
   "outputs": [
    {
     "data": {
      "text/plain": [
       " Mean of the integrated profile                  0\n",
       " Standard deviation of the integrated profile    0\n",
       " Excess kurtosis of the integrated profile       0\n",
       " Skewness of the integrated profile              0\n",
       " Mean of the DM-SNR curve                        0\n",
       " Standard deviation of the DM-SNR curve          0\n",
       " Excess kurtosis of the DM-SNR curve             0\n",
       " Skewness of the DM-SNR curve                    0\n",
       "target_class                                     0\n",
       "dtype: int64"
      ]
     },
     "execution_count": 11,
     "metadata": {},
     "output_type": "execute_result"
    }
   ],
   "source": [
    "pulsar.isnull().sum()"
   ]
  },
  {
   "cell_type": "markdown",
   "metadata": {},
   "source": [
    "Separar a classe dos dados"
   ]
  },
  {
   "cell_type": "code",
   "execution_count": 12,
   "metadata": {},
   "outputs": [
    {
     "data": {
      "text/html": [
       "<div>\n",
       "<style scoped>\n",
       "    .dataframe tbody tr th:only-of-type {\n",
       "        vertical-align: middle;\n",
       "    }\n",
       "\n",
       "    .dataframe tbody tr th {\n",
       "        vertical-align: top;\n",
       "    }\n",
       "\n",
       "    .dataframe thead th {\n",
       "        text-align: right;\n",
       "    }\n",
       "</style>\n",
       "<table border=\"1\" class=\"dataframe\">\n",
       "  <thead>\n",
       "    <tr style=\"text-align: right;\">\n",
       "      <th></th>\n",
       "      <th>Mean of the integrated profile</th>\n",
       "      <th>Standard deviation of the integrated profile</th>\n",
       "      <th>Excess kurtosis of the integrated profile</th>\n",
       "      <th>Skewness of the integrated profile</th>\n",
       "      <th>Mean of the DM-SNR curve</th>\n",
       "      <th>Standard deviation of the DM-SNR curve</th>\n",
       "      <th>Excess kurtosis of the DM-SNR curve</th>\n",
       "      <th>Skewness of the DM-SNR curve</th>\n",
       "    </tr>\n",
       "  </thead>\n",
       "  <tbody>\n",
       "    <tr>\n",
       "      <th>0</th>\n",
       "      <td>140.562500</td>\n",
       "      <td>55.683782</td>\n",
       "      <td>-0.234571</td>\n",
       "      <td>-0.699648</td>\n",
       "      <td>3.199833</td>\n",
       "      <td>19.110426</td>\n",
       "      <td>7.975532</td>\n",
       "      <td>74.242225</td>\n",
       "    </tr>\n",
       "    <tr>\n",
       "      <th>1</th>\n",
       "      <td>102.507812</td>\n",
       "      <td>58.882430</td>\n",
       "      <td>0.465318</td>\n",
       "      <td>-0.515088</td>\n",
       "      <td>1.677258</td>\n",
       "      <td>14.860146</td>\n",
       "      <td>10.576487</td>\n",
       "      <td>127.393580</td>\n",
       "    </tr>\n",
       "    <tr>\n",
       "      <th>2</th>\n",
       "      <td>103.015625</td>\n",
       "      <td>39.341649</td>\n",
       "      <td>0.323328</td>\n",
       "      <td>1.051164</td>\n",
       "      <td>3.121237</td>\n",
       "      <td>21.744669</td>\n",
       "      <td>7.735822</td>\n",
       "      <td>63.171909</td>\n",
       "    </tr>\n",
       "    <tr>\n",
       "      <th>3</th>\n",
       "      <td>136.750000</td>\n",
       "      <td>57.178449</td>\n",
       "      <td>-0.068415</td>\n",
       "      <td>-0.636238</td>\n",
       "      <td>3.642977</td>\n",
       "      <td>20.959280</td>\n",
       "      <td>6.896499</td>\n",
       "      <td>53.593661</td>\n",
       "    </tr>\n",
       "    <tr>\n",
       "      <th>4</th>\n",
       "      <td>88.726562</td>\n",
       "      <td>40.672225</td>\n",
       "      <td>0.600866</td>\n",
       "      <td>1.123492</td>\n",
       "      <td>1.178930</td>\n",
       "      <td>11.468720</td>\n",
       "      <td>14.269573</td>\n",
       "      <td>252.567306</td>\n",
       "    </tr>\n",
       "  </tbody>\n",
       "</table>\n",
       "</div>"
      ],
      "text/plain": [
       "    Mean of the integrated profile  \\\n",
       "0                       140.562500   \n",
       "1                       102.507812   \n",
       "2                       103.015625   \n",
       "3                       136.750000   \n",
       "4                        88.726562   \n",
       "\n",
       "    Standard deviation of the integrated profile  \\\n",
       "0                                      55.683782   \n",
       "1                                      58.882430   \n",
       "2                                      39.341649   \n",
       "3                                      57.178449   \n",
       "4                                      40.672225   \n",
       "\n",
       "    Excess kurtosis of the integrated profile  \\\n",
       "0                                   -0.234571   \n",
       "1                                    0.465318   \n",
       "2                                    0.323328   \n",
       "3                                   -0.068415   \n",
       "4                                    0.600866   \n",
       "\n",
       "    Skewness of the integrated profile   Mean of the DM-SNR curve  \\\n",
       "0                            -0.699648                   3.199833   \n",
       "1                            -0.515088                   1.677258   \n",
       "2                             1.051164                   3.121237   \n",
       "3                            -0.636238                   3.642977   \n",
       "4                             1.123492                   1.178930   \n",
       "\n",
       "    Standard deviation of the DM-SNR curve  \\\n",
       "0                                19.110426   \n",
       "1                                14.860146   \n",
       "2                                21.744669   \n",
       "3                                20.959280   \n",
       "4                                11.468720   \n",
       "\n",
       "    Excess kurtosis of the DM-SNR curve   Skewness of the DM-SNR curve  \n",
       "0                              7.975532                      74.242225  \n",
       "1                             10.576487                     127.393580  \n",
       "2                              7.735822                      63.171909  \n",
       "3                              6.896499                      53.593661  \n",
       "4                             14.269573                     252.567306  "
      ]
     },
     "execution_count": 12,
     "metadata": {},
     "output_type": "execute_result"
    }
   ],
   "source": [
    "classes = pulsar['target_class']\n",
    "pulsar.drop('target_class', axis=1, inplace=True)\n",
    "pulsar.head()"
   ]
  },
  {
   "cell_type": "markdown",
   "metadata": {},
   "source": [
    "### 6 - Treinamento do modelo"
   ]
  },
  {
   "cell_type": "code",
   "execution_count": 14,
   "metadata": {},
   "outputs": [],
   "source": [
    "pip_1 = Pipeline([\n",
    "    ('scaler', StandardScaler()),\n",
    "    ('clf', svm.SVC())\n",
    "])\n",
    "\n",
    "pip_2 = Pipeline([\n",
    "    ('min_max_scaler', MinMaxScaler()),\n",
    "    ('clf', svm.SVC())\n",
    "])\n",
    "\n",
    "pip_3 = Pipeline([\n",
    "    ('scaler', StandardScaler()),\n",
    "    ('clf', svm.SVC(kernel='rbf'))\n",
    "])\n",
    "\n",
    "pip_4 = Pipeline([\n",
    "    ('scaler', StandardScaler()),\n",
    "    ('clf', svm.SVC(kernel='poly'))\n",
    "])\n",
    "\n",
    "pip_5 = Pipeline([\n",
    "    ('scaler', StandardScaler()),\n",
    "    ('clf', svm.SVC(kernel='linear'))\n",
    "])"
   ]
  },
  {
   "cell_type": "markdown",
   "metadata": {},
   "source": [
    "Teste de acurácia usando o pipeline 'pip_1' - kernel default"
   ]
  },
  {
   "cell_type": "code",
   "execution_count": 16,
   "metadata": {},
   "outputs": [
    {
     "data": {
      "text/plain": [
       "0.9774276455469885"
      ]
     },
     "execution_count": 16,
     "metadata": {},
     "output_type": "execute_result"
    }
   ],
   "source": [
    "Acuracia(pip_1,pulsar,classes)"
   ]
  },
  {
   "cell_type": "markdown",
   "metadata": {},
   "source": [
    "Teste de acurácia usando o pipeline 'pip_2' - kernel default com MinMaxScaler"
   ]
  },
  {
   "cell_type": "code",
   "execution_count": 17,
   "metadata": {},
   "outputs": [
    {
     "data": {
      "text/plain": [
       "0.9773717733825008"
      ]
     },
     "execution_count": 17,
     "metadata": {},
     "output_type": "execute_result"
    }
   ],
   "source": [
    "Acuracia(pip_2,pulsar,classes)"
   ]
  },
  {
   "cell_type": "markdown",
   "metadata": {},
   "source": [
    "Teste de acurácia usando o pipeline 'pip_3' - kernel rbf"
   ]
  },
  {
   "cell_type": "code",
   "execution_count": 18,
   "metadata": {},
   "outputs": [
    {
     "data": {
      "text/plain": [
       "0.9774276455469885"
      ]
     },
     "execution_count": 18,
     "metadata": {},
     "output_type": "execute_result"
    }
   ],
   "source": [
    "Acuracia(pip_3,pulsar,classes)"
   ]
  },
  {
   "cell_type": "markdown",
   "metadata": {},
   "source": [
    "Teste de acurácia usando o pipeline 'pip_4' - kernel polynomial"
   ]
  },
  {
   "cell_type": "code",
   "execution_count": 19,
   "metadata": {},
   "outputs": [
    {
     "data": {
      "text/plain": [
       "0.9758073527768466"
      ]
     },
     "execution_count": 19,
     "metadata": {},
     "output_type": "execute_result"
    }
   ],
   "source": [
    "Acuracia(pip_4,pulsar,classes)"
   ]
  },
  {
   "cell_type": "markdown",
   "metadata": {},
   "source": [
    "Teste de acurácia usando o pipeline 'pip_5' - kernel linear"
   ]
  },
  {
   "cell_type": "code",
   "execution_count": 20,
   "metadata": {},
   "outputs": [
    {
     "data": {
      "text/plain": [
       "0.9786009610012292"
      ]
     },
     "execution_count": 20,
     "metadata": {},
     "output_type": "execute_result"
    }
   ],
   "source": [
    "Acuracia(pip_5,pulsar,classes)"
   ]
  },
  {
   "cell_type": "markdown",
   "metadata": {},
   "source": [
    "### 7 - GridSearch"
   ]
  },
  {
   "cell_type": "markdown",
   "metadata": {},
   "source": [
    "Faz o tuning dos parametros testando cada combinação utilziando CrossValidation com 10 folds e analisando a acurácia"
   ]
  },
  {
   "cell_type": "code",
   "execution_count": 21,
   "metadata": {},
   "outputs": [],
   "source": [
    "from sklearn.model_selection import GridSearchCV\n",
    "\n",
    "lista_C = [0.001, 0.01, 0.1, 1, 10,100]\n",
    "lista_gamma = [0.001, 0.01, 0.1, 1, 10, 100]"
   ]
  },
  {
   "cell_type": "code",
   "execution_count": 22,
   "metadata": {},
   "outputs": [],
   "source": [
    "parametros_grid = dict(clf__C=lista_C, clf__gamma=lista_gamma)"
   ]
  },
  {
   "cell_type": "code",
   "execution_count": 23,
   "metadata": {},
   "outputs": [],
   "source": [
    "grid = GridSearchCV(pip_5, parametros_grid, cv=10, scoring='accuracy')"
   ]
  },
  {
   "cell_type": "code",
   "execution_count": 24,
   "metadata": {},
   "outputs": [
    {
     "data": {
      "text/plain": [
       "GridSearchCV(cv=10, error_score=nan,\n",
       "             estimator=Pipeline(memory=None,\n",
       "                                steps=[('scaler',\n",
       "                                        StandardScaler(copy=True,\n",
       "                                                       with_mean=True,\n",
       "                                                       with_std=True)),\n",
       "                                       ('clf',\n",
       "                                        SVC(C=1.0, break_ties=False,\n",
       "                                            cache_size=200, class_weight=None,\n",
       "                                            coef0=0.0,\n",
       "                                            decision_function_shape='ovr',\n",
       "                                            degree=3, gamma='scale',\n",
       "                                            kernel='linear', max_iter=-1,\n",
       "                                            probability=False,\n",
       "                                            random_state=None, shrinking=True,\n",
       "                                            tol=0.001, verbose=False))],\n",
       "                                verbose=False),\n",
       "             iid='deprecated', n_jobs=None,\n",
       "             param_grid={'clf__C': [0.001, 0.01, 0.1, 1, 10, 100],\n",
       "                         'clf__gamma': [0.001, 0.01, 0.1, 1, 10, 100]},\n",
       "             pre_dispatch='2*n_jobs', refit=True, return_train_score=False,\n",
       "             scoring='accuracy', verbose=0)"
      ]
     },
     "execution_count": 24,
     "metadata": {},
     "output_type": "execute_result"
    }
   ],
   "source": [
    "grid.fit(pulsar, classes)"
   ]
  },
  {
   "cell_type": "code",
   "execution_count": 25,
   "metadata": {},
   "outputs": [
    {
     "data": {
      "text/plain": [
       "{'mean_fit_time': array([0.34667006, 0.36442719, 0.34636595, 0.32661247, 0.34866183,\n",
       "        0.42226968, 0.3456732 , 0.30886674, 0.29929066, 0.25042682,\n",
       "        0.25031497, 0.25361252, 0.26349049, 0.25759695, 0.25460801,\n",
       "        0.25431857, 0.26068428, 0.24832149, 0.45487216, 0.5007427 ,\n",
       "        0.54534082, 0.52498338, 0.49486551, 0.49457238, 1.66583388,\n",
       "        1.63870509, 1.63092782, 1.63152068, 1.61896386, 1.60570307,\n",
       "        8.95932806, 8.95363996, 8.93728778, 8.92632542, 8.91275649,\n",
       "        8.93918869]),\n",
       " 'std_fit_time': array([0.01149005, 0.02706523, 0.02667399, 0.01060701, 0.03000118,\n",
       "        0.06806285, 0.07371019, 0.03916555, 0.04548388, 0.00908711,\n",
       "        0.00866769, 0.01455854, 0.00699005, 0.01336996, 0.00993765,\n",
       "        0.00814752, 0.0144035 , 0.00498182, 0.03487613, 0.05033407,\n",
       "        0.06638414, 0.04670427, 0.06349876, 0.04638415, 0.17247881,\n",
       "        0.1401552 , 0.15325329, 0.16496409, 0.14558054, 0.14698247,\n",
       "        0.63600066, 0.62782666, 0.66746074, 0.67475922, 0.66341823,\n",
       "        0.63386263]),\n",
       " 'mean_score_time': array([0.02364273, 0.02473285, 0.02384145, 0.02255569, 0.02434323,\n",
       "        0.02663293, 0.0212424 , 0.01995304, 0.01945429, 0.01775498,\n",
       "        0.01706862, 0.01776106, 0.01516187, 0.01457245, 0.01467142,\n",
       "        0.01486163, 0.0147747 , 0.01447885, 0.01377335, 0.01537237,\n",
       "        0.01665871, 0.01526997, 0.0143683 , 0.01516085, 0.01457047,\n",
       "        0.01406989, 0.01416867, 0.01488011, 0.01427231, 0.01357505,\n",
       "        0.01416793, 0.014083  , 0.01458137, 0.01397328, 0.01387305,\n",
       "        0.01367421]),\n",
       " 'std_score_time': array([0.00172981, 0.00229537, 0.00191382, 0.00101499, 0.00318914,\n",
       "        0.00378393, 0.004528  , 0.00270698, 0.00333808, 0.00226411,\n",
       "        0.00113818, 0.00159843, 0.00074556, 0.00065143, 0.00063283,\n",
       "        0.00069448, 0.00059243, 0.00049563, 0.00039617, 0.00134309,\n",
       "        0.00354006, 0.00134288, 0.00110151, 0.00250423, 0.00260513,\n",
       "        0.00093512, 0.00059638, 0.00191375, 0.00108808, 0.00049861,\n",
       "        0.00125721, 0.00137609, 0.00219465, 0.00062643, 0.00113001,\n",
       "        0.00044858]),\n",
       " 'param_clf__C': masked_array(data=[0.001, 0.001, 0.001, 0.001, 0.001, 0.001, 0.01, 0.01,\n",
       "                    0.01, 0.01, 0.01, 0.01, 0.1, 0.1, 0.1, 0.1, 0.1, 0.1,\n",
       "                    1, 1, 1, 1, 1, 1, 10, 10, 10, 10, 10, 10, 100, 100,\n",
       "                    100, 100, 100, 100],\n",
       "              mask=[False, False, False, False, False, False, False, False,\n",
       "                    False, False, False, False, False, False, False, False,\n",
       "                    False, False, False, False, False, False, False, False,\n",
       "                    False, False, False, False, False, False, False, False,\n",
       "                    False, False, False, False],\n",
       "        fill_value='?',\n",
       "             dtype=object),\n",
       " 'param_clf__gamma': masked_array(data=[0.001, 0.01, 0.1, 1, 10, 100, 0.001, 0.01, 0.1, 1, 10,\n",
       "                    100, 0.001, 0.01, 0.1, 1, 10, 100, 0.001, 0.01, 0.1, 1,\n",
       "                    10, 100, 0.001, 0.01, 0.1, 1, 10, 100, 0.001, 0.01,\n",
       "                    0.1, 1, 10, 100],\n",
       "              mask=[False, False, False, False, False, False, False, False,\n",
       "                    False, False, False, False, False, False, False, False,\n",
       "                    False, False, False, False, False, False, False, False,\n",
       "                    False, False, False, False, False, False, False, False,\n",
       "                    False, False, False, False],\n",
       "        fill_value='?',\n",
       "             dtype=object),\n",
       " 'params': [{'clf__C': 0.001, 'clf__gamma': 0.001},\n",
       "  {'clf__C': 0.001, 'clf__gamma': 0.01},\n",
       "  {'clf__C': 0.001, 'clf__gamma': 0.1},\n",
       "  {'clf__C': 0.001, 'clf__gamma': 1},\n",
       "  {'clf__C': 0.001, 'clf__gamma': 10},\n",
       "  {'clf__C': 0.001, 'clf__gamma': 100},\n",
       "  {'clf__C': 0.01, 'clf__gamma': 0.001},\n",
       "  {'clf__C': 0.01, 'clf__gamma': 0.01},\n",
       "  {'clf__C': 0.01, 'clf__gamma': 0.1},\n",
       "  {'clf__C': 0.01, 'clf__gamma': 1},\n",
       "  {'clf__C': 0.01, 'clf__gamma': 10},\n",
       "  {'clf__C': 0.01, 'clf__gamma': 100},\n",
       "  {'clf__C': 0.1, 'clf__gamma': 0.001},\n",
       "  {'clf__C': 0.1, 'clf__gamma': 0.01},\n",
       "  {'clf__C': 0.1, 'clf__gamma': 0.1},\n",
       "  {'clf__C': 0.1, 'clf__gamma': 1},\n",
       "  {'clf__C': 0.1, 'clf__gamma': 10},\n",
       "  {'clf__C': 0.1, 'clf__gamma': 100},\n",
       "  {'clf__C': 1, 'clf__gamma': 0.001},\n",
       "  {'clf__C': 1, 'clf__gamma': 0.01},\n",
       "  {'clf__C': 1, 'clf__gamma': 0.1},\n",
       "  {'clf__C': 1, 'clf__gamma': 1},\n",
       "  {'clf__C': 1, 'clf__gamma': 10},\n",
       "  {'clf__C': 1, 'clf__gamma': 100},\n",
       "  {'clf__C': 10, 'clf__gamma': 0.001},\n",
       "  {'clf__C': 10, 'clf__gamma': 0.01},\n",
       "  {'clf__C': 10, 'clf__gamma': 0.1},\n",
       "  {'clf__C': 10, 'clf__gamma': 1},\n",
       "  {'clf__C': 10, 'clf__gamma': 10},\n",
       "  {'clf__C': 10, 'clf__gamma': 100},\n",
       "  {'clf__C': 100, 'clf__gamma': 0.001},\n",
       "  {'clf__C': 100, 'clf__gamma': 0.01},\n",
       "  {'clf__C': 100, 'clf__gamma': 0.1},\n",
       "  {'clf__C': 100, 'clf__gamma': 1},\n",
       "  {'clf__C': 100, 'clf__gamma': 10},\n",
       "  {'clf__C': 100, 'clf__gamma': 100}],\n",
       " 'split0_test_score': array([0.96703911, 0.96703911, 0.96703911, 0.96703911, 0.96703911,\n",
       "        0.96703911, 0.97318436, 0.97318436, 0.97318436, 0.97318436,\n",
       "        0.97318436, 0.97318436, 0.97653631, 0.97653631, 0.97653631,\n",
       "        0.97653631, 0.97653631, 0.97653631, 0.97709497, 0.97709497,\n",
       "        0.97709497, 0.97709497, 0.97709497, 0.97709497, 0.97709497,\n",
       "        0.97709497, 0.97709497, 0.97709497, 0.97709497, 0.97709497,\n",
       "        0.97709497, 0.97709497, 0.97709497, 0.97709497, 0.97709497,\n",
       "        0.97709497]),\n",
       " 'split1_test_score': array([0.96703911, 0.96703911, 0.96703911, 0.96703911, 0.96703911,\n",
       "        0.96703911, 0.97039106, 0.97039106, 0.97039106, 0.97039106,\n",
       "        0.97039106, 0.97039106, 0.97374302, 0.97374302, 0.97374302,\n",
       "        0.97374302, 0.97374302, 0.97374302, 0.97374302, 0.97374302,\n",
       "        0.97374302, 0.97374302, 0.97374302, 0.97374302, 0.97374302,\n",
       "        0.97374302, 0.97374302, 0.97374302, 0.97374302, 0.97374302,\n",
       "        0.97430168, 0.97430168, 0.97430168, 0.97430168, 0.97430168,\n",
       "        0.97430168]),\n",
       " 'split2_test_score': array([0.96312849, 0.96312849, 0.96312849, 0.96312849, 0.96312849,\n",
       "        0.96312849, 0.96871508, 0.96871508, 0.96871508, 0.96871508,\n",
       "        0.96871508, 0.96871508, 0.9726257 , 0.9726257 , 0.9726257 ,\n",
       "        0.9726257 , 0.9726257 , 0.9726257 , 0.97709497, 0.97709497,\n",
       "        0.97709497, 0.97709497, 0.97709497, 0.97709497, 0.97709497,\n",
       "        0.97709497, 0.97709497, 0.97709497, 0.97709497, 0.97709497,\n",
       "        0.97709497, 0.97709497, 0.97709497, 0.97709497, 0.97709497,\n",
       "        0.97709497]),\n",
       " 'split3_test_score': array([0.97597765, 0.97597765, 0.97597765, 0.97597765, 0.97597765,\n",
       "        0.97597765, 0.98100559, 0.98100559, 0.98100559, 0.98100559,\n",
       "        0.98100559, 0.98100559, 0.98435754, 0.98435754, 0.98435754,\n",
       "        0.98435754, 0.98435754, 0.98435754, 0.98547486, 0.98547486,\n",
       "        0.98547486, 0.98547486, 0.98547486, 0.98547486, 0.98603352,\n",
       "        0.98603352, 0.98603352, 0.98603352, 0.98603352, 0.98603352,\n",
       "        0.98603352, 0.98603352, 0.98603352, 0.98603352, 0.98603352,\n",
       "        0.98603352]),\n",
       " 'split4_test_score': array([0.97374302, 0.97374302, 0.97374302, 0.97374302, 0.97374302,\n",
       "        0.97374302, 0.97932961, 0.97932961, 0.97932961, 0.97932961,\n",
       "        0.97932961, 0.97932961, 0.98212291, 0.98212291, 0.98212291,\n",
       "        0.98212291, 0.98212291, 0.98212291, 0.98156425, 0.98156425,\n",
       "        0.98156425, 0.98156425, 0.98156425, 0.98156425, 0.98212291,\n",
       "        0.98212291, 0.98212291, 0.98212291, 0.98212291, 0.98212291,\n",
       "        0.98212291, 0.98212291, 0.98212291, 0.98212291, 0.98212291,\n",
       "        0.98212291]),\n",
       " 'split5_test_score': array([0.97541899, 0.97541899, 0.97541899, 0.97541899, 0.97541899,\n",
       "        0.97541899, 0.97932961, 0.97932961, 0.97932961, 0.97932961,\n",
       "        0.97932961, 0.97932961, 0.98156425, 0.98156425, 0.98156425,\n",
       "        0.98156425, 0.98156425, 0.98156425, 0.98100559, 0.98100559,\n",
       "        0.98100559, 0.98100559, 0.98100559, 0.98100559, 0.98100559,\n",
       "        0.98100559, 0.98100559, 0.98100559, 0.98100559, 0.98100559,\n",
       "        0.98100559, 0.98100559, 0.98100559, 0.98100559, 0.98100559,\n",
       "        0.98100559]),\n",
       " 'split6_test_score': array([0.97150838, 0.97150838, 0.97150838, 0.97150838, 0.97150838,\n",
       "        0.97150838, 0.97374302, 0.97374302, 0.97374302, 0.97374302,\n",
       "        0.97374302, 0.97374302, 0.97486034, 0.97486034, 0.97486034,\n",
       "        0.97486034, 0.97486034, 0.97486034, 0.97597765, 0.97597765,\n",
       "        0.97597765, 0.97597765, 0.97597765, 0.97597765, 0.97597765,\n",
       "        0.97597765, 0.97597765, 0.97597765, 0.97597765, 0.97597765,\n",
       "        0.97597765, 0.97597765, 0.97597765, 0.97597765, 0.97597765,\n",
       "        0.97597765]),\n",
       " 'split7_test_score': array([0.97486034, 0.97486034, 0.97486034, 0.97486034, 0.97486034,\n",
       "        0.97486034, 0.97709497, 0.97709497, 0.97709497, 0.97709497,\n",
       "        0.97709497, 0.97709497, 0.97988827, 0.97988827, 0.97988827,\n",
       "        0.97988827, 0.97988827, 0.97988827, 0.98044693, 0.98044693,\n",
       "        0.98044693, 0.98044693, 0.98044693, 0.98044693, 0.98044693,\n",
       "        0.98044693, 0.98044693, 0.98044693, 0.98044693, 0.98044693,\n",
       "        0.98044693, 0.98044693, 0.98044693, 0.98044693, 0.98044693,\n",
       "        0.98044693]),\n",
       " 'split8_test_score': array([0.97316937, 0.97316937, 0.97316937, 0.97316937, 0.97316937,\n",
       "        0.97316937, 0.97764114, 0.97764114, 0.97764114, 0.97764114,\n",
       "        0.97764114, 0.97764114, 0.98211291, 0.98211291, 0.98211291,\n",
       "        0.98211291, 0.98211291, 0.98211291, 0.98211291, 0.98211291,\n",
       "        0.98211291, 0.98211291, 0.98211291, 0.98211291, 0.98155394,\n",
       "        0.98155394, 0.98155394, 0.98155394, 0.98155394, 0.98155394,\n",
       "        0.98211291, 0.98211291, 0.98211291, 0.98211291, 0.98211291,\n",
       "        0.98211291]),\n",
       " 'split9_test_score': array([0.96925657, 0.96925657, 0.96925657, 0.96925657, 0.96925657,\n",
       "        0.96925657, 0.97149245, 0.97149245, 0.97149245, 0.97149245,\n",
       "        0.97149245, 0.97149245, 0.9726104 , 0.9726104 , 0.9726104 ,\n",
       "        0.9726104 , 0.9726104 , 0.9726104 , 0.97428731, 0.97428731,\n",
       "        0.97428731, 0.97428731, 0.97428731, 0.97428731, 0.97316937,\n",
       "        0.97316937, 0.97316937, 0.97316937, 0.97316937, 0.97316937,\n",
       "        0.97428731, 0.97428731, 0.97428731, 0.97428731, 0.97428731,\n",
       "        0.97428731]),\n",
       " 'mean_test_score': array([0.9711141 , 0.9711141 , 0.9711141 , 0.9711141 , 0.9711141 ,\n",
       "        0.9711141 , 0.97519269, 0.97519269, 0.97519269, 0.97519269,\n",
       "        0.97519269, 0.97519269, 0.97804216, 0.97804216, 0.97804216,\n",
       "        0.97804216, 0.97804216, 0.97804216, 0.97888025, 0.97888025,\n",
       "        0.97888025, 0.97888025, 0.97888025, 0.97888025, 0.97882429,\n",
       "        0.97882429, 0.97882429, 0.97882429, 0.97882429, 0.97882429,\n",
       "        0.97904784, 0.97904784, 0.97904784, 0.97904784, 0.97904784,\n",
       "        0.97904784]),\n",
       " 'std_test_score': array([0.00409808, 0.00409808, 0.00409808, 0.00409808, 0.00409808,\n",
       "        0.00409808, 0.0040308 , 0.0040308 , 0.0040308 , 0.0040308 ,\n",
       "        0.0040308 , 0.0040308 , 0.00422655, 0.00422655, 0.00422655,\n",
       "        0.00422655, 0.00422655, 0.00422655, 0.0036111 , 0.0036111 ,\n",
       "        0.0036111 , 0.0036111 , 0.0036111 , 0.0036111 , 0.00386753,\n",
       "        0.00386753, 0.00386753, 0.00386753, 0.00386753, 0.00386753,\n",
       "        0.00368351, 0.00368351, 0.00368351, 0.00368351, 0.00368351,\n",
       "        0.00368351]),\n",
       " 'rank_test_score': array([31, 31, 31, 31, 31, 31, 25, 25, 25, 25, 25, 25, 19, 19, 19, 19, 19,\n",
       "        19,  7,  7,  7,  7,  7,  7, 13, 13, 13, 13, 13, 13,  1,  1,  1,  1,\n",
       "         1,  1])}"
      ]
     },
     "execution_count": 25,
     "metadata": {},
     "output_type": "execute_result"
    }
   ],
   "source": [
    "grid.cv_results_"
   ]
  },
  {
   "cell_type": "code",
   "execution_count": 26,
   "metadata": {},
   "outputs": [
    {
     "data": {
      "text/plain": [
       "{'clf__C': 100, 'clf__gamma': 0.001}"
      ]
     },
     "execution_count": 26,
     "metadata": {},
     "output_type": "execute_result"
    }
   ],
   "source": [
    "grid.best_params_"
   ]
  },
  {
   "cell_type": "code",
   "execution_count": 27,
   "metadata": {},
   "outputs": [
    {
     "data": {
      "text/plain": [
       "0.97904784358791"
      ]
     },
     "execution_count": 27,
     "metadata": {},
     "output_type": "execute_result"
    }
   ],
   "source": [
    "grid.best_score_"
   ]
  },
  {
   "cell_type": "markdown",
   "metadata": {},
   "source": [
    "### 8 - Métricas de Avaliação de Modelos"
   ]
  },
  {
   "cell_type": "code",
   "execution_count": 29,
   "metadata": {},
   "outputs": [
    {
     "name": "stdout",
     "output_type": "stream",
     "text": [
      "              precision    recall  f1-score   support\n",
      "\n",
      "           0       0.98      0.99      0.99     16259\n",
      "           1       0.94      0.82      0.88      1639\n",
      "\n",
      "    accuracy                           0.98     17898\n",
      "   macro avg       0.96      0.91      0.93     17898\n",
      "weighted avg       0.98      0.98      0.98     17898\n",
      "\n"
     ]
    }
   ],
   "source": [
    "pip_6 = Pipeline([\n",
    "    ('scaler', StandardScaler()),\n",
    "    ('cfl', svm.SVC(kernel='linear', C=100, gamma=0.001))\n",
    "])\n",
    "\n",
    "resultados = cross_val_predict(pip_6, pulsar, classes, cv=10)\n",
    "\n",
    "print(metrics.classification_report(classes, resultados, target_names=['0', '1']))"
   ]
  },
  {
   "cell_type": "markdown",
   "metadata": {},
   "source": [
    "Matriz de Confusão"
   ]
  },
  {
   "cell_type": "code",
   "execution_count": 31,
   "metadata": {},
   "outputs": [
    {
     "name": "stdout",
     "output_type": "stream",
     "text": [
      "[[16177    82]\n",
      " [  293  1346]]\n"
     ]
    }
   ],
   "source": [
    "from sklearn.metrics import confusion_matrix\n",
    "\n",
    "cm = confusion_matrix(classes, resultados)\n",
    "print(cm)"
   ]
  },
  {
   "cell_type": "markdown",
   "metadata": {},
   "source": [
    "##### A matriz de confusão mostra que o classificador teve os seguintes resultados:\n",
    "##### Verdadeiros Positivos = 16177 (Classe Predita = Classe Esperada = Positivo para estrela de neutrons)\n",
    "##### Verdadeiros Negativos = 1346 (Classe Predita = Classe Esperada = Negativo para estrela de neutrons)\n",
    "##### Falsos Positivos = 293 (Classe Predita Positiva para estrela de neutrons, Classe Esperada é Negativa)\n",
    "##### Falsos Negativos = 82 (Classe Predita Negativa para estrela de neutrons, Classe Esperada é Positiva )\n",
    "\n",
    "##### Com esses resultados, podemos estimar os seguintes parâmetros:\n",
    "##### Sensibilidade ou Taxa de Verdadeiros Positivos = VP / (VP + FN) = 16177 / (16177+82) = 99.49%\n",
    "##### Especificidade ou Taxa de Verdadeiros Negativos = VN / (FP+VN) = 1346 / (293+1346) = 82.12%\n",
    "##### Acurácia = (VP+VN) / (VP+FN+FP+VN) = 17523  / 17898 = 97.90%, que é igual ao resultado obtido com o método grid.best_score_"
   ]
  },
  {
   "cell_type": "code",
   "execution_count": null,
   "metadata": {},
   "outputs": [],
   "source": []
  }
 ],
 "metadata": {
  "kernelspec": {
   "display_name": "Python 3",
   "language": "python",
   "name": "python3"
  },
  "language_info": {
   "codemirror_mode": {
    "name": "ipython",
    "version": 3
   },
   "file_extension": ".py",
   "mimetype": "text/x-python",
   "name": "python",
   "nbconvert_exporter": "python",
   "pygments_lexer": "ipython3",
   "version": "3.7.6"
  }
 },
 "nbformat": 4,
 "nbformat_minor": 4
}
